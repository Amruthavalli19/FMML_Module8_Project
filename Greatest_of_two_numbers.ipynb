{
  "nbformat": 4,
  "nbformat_minor": 0,
  "metadata": {
    "colab": {
      "provenance": [],
      "include_colab_link": true
    },
    "kernelspec": {
      "name": "python3",
      "display_name": "Python 3"
    },
    "language_info": {
      "name": "python"
    }
  },
  "cells": [
    {
      "cell_type": "markdown",
      "metadata": {
        "id": "view-in-github",
        "colab_type": "text"
      },
      "source": [
        "<a href=\"https://colab.research.google.com/github/Amruthavalli19/FMML_Module8_Project/blob/main/Greatest_of_two_numbers.ipynb\" target=\"_parent\"><img src=\"https://colab.research.google.com/assets/colab-badge.svg\" alt=\"Open In Colab\"/></a>"
      ]
    },
    {
      "cell_type": "code",
      "execution_count": 1,
      "metadata": {
        "colab": {
          "base_uri": "https://localhost:8080/"
        },
        "id": "Qj_y0DJLeKhf",
        "outputId": "0742cf6d-1460-491f-c250-243fe84731a3"
      },
      "outputs": [
        {
          "output_type": "stream",
          "name": "stdout",
          "text": [
            "Enter the first number:15\n",
            "Enter the second number:10\n",
            "15\n"
          ]
        }
      ],
      "source": [
        "n1=int(input(\"Enter the first number:\"))\n",
        "n2=int(input(\"Enter the second number:\"))\n",
        "if n1 > n2:\n",
        "    print(n1)\n",
        "elif n2 > n1:\n",
        "    print(n2)\n",
        "else:\n",
        "    print(\"equal\")"
      ]
    }
  ]
}